{
 "cells": [
  {
   "cell_type": "code",
   "execution_count": 1,
   "id": "db2114e9-37d7-4f30-8a95-c5bfe0e600a3",
   "metadata": {},
   "outputs": [],
   "source": [
    "import numpy as np\n",
    "import pandas as pd\n",
    "import seaborn as sn\n",
    "import matplotlib.pyplot as plt"
   ]
  },
  {
   "cell_type": "code",
   "execution_count": 12,
   "id": "e5a0c874-7c00-4023-a0ae-bc4ea673fb21",
   "metadata": {},
   "outputs": [],
   "source": [
    "data = pd.read_csv('Indian Liver Patient Dataset.csv')\n"
   ]
  },
  {
   "cell_type": "code",
   "execution_count": 92,
   "id": "3d848316-73b8-4c39-b6fd-278f4f7f2a38",
   "metadata": {},
   "outputs": [
    {
     "data": {
      "text/html": [
       "<div>\n",
       "<style scoped>\n",
       "    .dataframe tbody tr th:only-of-type {\n",
       "        vertical-align: middle;\n",
       "    }\n",
       "\n",
       "    .dataframe tbody tr th {\n",
       "        vertical-align: top;\n",
       "    }\n",
       "\n",
       "    .dataframe thead th {\n",
       "        text-align: right;\n",
       "    }\n",
       "</style>\n",
       "<table border=\"1\" class=\"dataframe\">\n",
       "  <thead>\n",
       "    <tr style=\"text-align: right;\">\n",
       "      <th></th>\n",
       "      <th>age</th>\n",
       "      <th>gender</th>\n",
       "      <th>Total_Bilirubin</th>\n",
       "      <th>Direct_Bilirubin</th>\n",
       "      <th>Alkphos_Alkaline_Phosphotase</th>\n",
       "      <th>Sgpt_Alamine_Aminotransferase</th>\n",
       "      <th>Sgot_Aspartate_Aminotransferase</th>\n",
       "      <th>Total_Protiens</th>\n",
       "      <th>ALB_Albumin</th>\n",
       "      <th>A/GRatio_Albumin_Globulin_Ratio</th>\n",
       "      <th>selector</th>\n",
       "      <th>Unnamed: 11</th>\n",
       "      <th>Unnamed: 12</th>\n",
       "      <th>Unnamed: 13</th>\n",
       "      <th>Unnamed: 14</th>\n",
       "    </tr>\n",
       "  </thead>\n",
       "  <tbody>\n",
       "    <tr>\n",
       "      <th>0</th>\n",
       "      <td>65</td>\n",
       "      <td>0</td>\n",
       "      <td>0.7</td>\n",
       "      <td>0.1</td>\n",
       "      <td>187</td>\n",
       "      <td>16</td>\n",
       "      <td>18</td>\n",
       "      <td>6.8</td>\n",
       "      <td>3.3</td>\n",
       "      <td>0.90</td>\n",
       "      <td>1</td>\n",
       "      <td>NaN</td>\n",
       "      <td>NaN</td>\n",
       "      <td>NaN</td>\n",
       "      <td>NaN</td>\n",
       "    </tr>\n",
       "    <tr>\n",
       "      <th>1</th>\n",
       "      <td>62</td>\n",
       "      <td>1</td>\n",
       "      <td>10.9</td>\n",
       "      <td>5.5</td>\n",
       "      <td>699</td>\n",
       "      <td>64</td>\n",
       "      <td>100</td>\n",
       "      <td>7.5</td>\n",
       "      <td>3.2</td>\n",
       "      <td>0.74</td>\n",
       "      <td>1</td>\n",
       "      <td>NaN</td>\n",
       "      <td>NaN</td>\n",
       "      <td>NaN</td>\n",
       "      <td>NaN</td>\n",
       "    </tr>\n",
       "    <tr>\n",
       "      <th>2</th>\n",
       "      <td>62</td>\n",
       "      <td>1</td>\n",
       "      <td>7.3</td>\n",
       "      <td>4.1</td>\n",
       "      <td>490</td>\n",
       "      <td>60</td>\n",
       "      <td>68</td>\n",
       "      <td>7.0</td>\n",
       "      <td>3.3</td>\n",
       "      <td>0.89</td>\n",
       "      <td>1</td>\n",
       "      <td>NaN</td>\n",
       "      <td>NaN</td>\n",
       "      <td>NaN</td>\n",
       "      <td>NaN</td>\n",
       "    </tr>\n",
       "    <tr>\n",
       "      <th>3</th>\n",
       "      <td>58</td>\n",
       "      <td>1</td>\n",
       "      <td>1.0</td>\n",
       "      <td>0.4</td>\n",
       "      <td>182</td>\n",
       "      <td>14</td>\n",
       "      <td>20</td>\n",
       "      <td>6.8</td>\n",
       "      <td>3.4</td>\n",
       "      <td>1.00</td>\n",
       "      <td>1</td>\n",
       "      <td>NaN</td>\n",
       "      <td>NaN</td>\n",
       "      <td>NaN</td>\n",
       "      <td>NaN</td>\n",
       "    </tr>\n",
       "    <tr>\n",
       "      <th>4</th>\n",
       "      <td>72</td>\n",
       "      <td>1</td>\n",
       "      <td>3.9</td>\n",
       "      <td>2.0</td>\n",
       "      <td>195</td>\n",
       "      <td>27</td>\n",
       "      <td>59</td>\n",
       "      <td>7.3</td>\n",
       "      <td>2.4</td>\n",
       "      <td>0.40</td>\n",
       "      <td>1</td>\n",
       "      <td>NaN</td>\n",
       "      <td>NaN</td>\n",
       "      <td>NaN</td>\n",
       "      <td>NaN</td>\n",
       "    </tr>\n",
       "  </tbody>\n",
       "</table>\n",
       "</div>"
      ],
      "text/plain": [
       "   age  gender  Total_Bilirubin  Direct_Bilirubin  \\\n",
       "0   65       0              0.7               0.1   \n",
       "1   62       1             10.9               5.5   \n",
       "2   62       1              7.3               4.1   \n",
       "3   58       1              1.0               0.4   \n",
       "4   72       1              3.9               2.0   \n",
       "\n",
       "   Alkphos_Alkaline_Phosphotase  Sgpt_Alamine_Aminotransferase  \\\n",
       "0                           187                             16   \n",
       "1                           699                             64   \n",
       "2                           490                             60   \n",
       "3                           182                             14   \n",
       "4                           195                             27   \n",
       "\n",
       "   Sgot_Aspartate_Aminotransferase  Total_Protiens  ALB_Albumin  \\\n",
       "0                               18             6.8          3.3   \n",
       "1                              100             7.5          3.2   \n",
       "2                               68             7.0          3.3   \n",
       "3                               20             6.8          3.4   \n",
       "4                               59             7.3          2.4   \n",
       "\n",
       "   A/GRatio_Albumin_Globulin_Ratio  selector  Unnamed: 11  Unnamed: 12  \\\n",
       "0                             0.90         1          NaN          NaN   \n",
       "1                             0.74         1          NaN          NaN   \n",
       "2                             0.89         1          NaN          NaN   \n",
       "3                             1.00         1          NaN          NaN   \n",
       "4                             0.40         1          NaN          NaN   \n",
       "\n",
       "   Unnamed: 13  Unnamed: 14  \n",
       "0          NaN          NaN  \n",
       "1          NaN          NaN  \n",
       "2          NaN          NaN  \n",
       "3          NaN          NaN  \n",
       "4          NaN          NaN  "
      ]
     },
     "execution_count": 92,
     "metadata": {},
     "output_type": "execute_result"
    }
   ],
   "source": [
    "# It print the five upper rows of Dataset\n",
    "data.head(5)"
   ]
  },
  {
   "cell_type": "code",
   "execution_count": 34,
   "id": "5f8d4396-9f4d-4605-9762-87c4948ba39e",
   "metadata": {},
   "outputs": [
    {
     "data": {
      "text/plain": [
       "(583, 15)"
      ]
     },
     "execution_count": 34,
     "metadata": {},
     "output_type": "execute_result"
    }
   ],
   "source": [
    "data.shape"
   ]
  },
  {
   "cell_type": "code",
   "execution_count": 14,
   "id": "815ce298-abd3-43c4-9787-6a08212fade2",
   "metadata": {},
   "outputs": [
    {
     "data": {
      "text/plain": [
       "Index(['age', 'gender', 'Total_Bilirubin', 'Direct_Bilirubin',\n",
       "       'Alkphos_Alkaline_Phosphotase', 'Sgpt_Alamine_Aminotransferase',\n",
       "       'Sgot_Aspartate_Aminotransferase', 'Total_Protiens', 'ALB_Albumin',\n",
       "       'A/GRatio_Albumin_Globulin_Ratio', 'selector', 'Unnamed: 11',\n",
       "       'Unnamed: 12', 'Unnamed: 13', 'Unnamed: 14'],\n",
       "      dtype='object')"
      ]
     },
     "execution_count": 14,
     "metadata": {},
     "output_type": "execute_result"
    }
   ],
   "source": [
    "data.columns"
   ]
  },
  {
   "cell_type": "code",
   "execution_count": 15,
   "id": "e72a0ebd-423c-4160-a1ea-6d05754c76ce",
   "metadata": {},
   "outputs": [
    {
     "name": "stdout",
     "output_type": "stream",
     "text": [
      "<class 'pandas.core.frame.DataFrame'>\n",
      "RangeIndex: 583 entries, 0 to 582\n",
      "Data columns (total 15 columns):\n",
      " #   Column                           Non-Null Count  Dtype  \n",
      "---  ------                           --------------  -----  \n",
      " 0   age                              583 non-null    int64  \n",
      " 1   gender                           583 non-null    object \n",
      " 2   Total_Bilirubin                  583 non-null    float64\n",
      " 3   Direct_Bilirubin                 583 non-null    float64\n",
      " 4   Alkphos_Alkaline_Phosphotase     583 non-null    int64  \n",
      " 5   Sgpt_Alamine_Aminotransferase    583 non-null    int64  \n",
      " 6   Sgot_Aspartate_Aminotransferase  583 non-null    int64  \n",
      " 7   Total_Protiens                   583 non-null    float64\n",
      " 8   ALB_Albumin                      583 non-null    float64\n",
      " 9   A/GRatio_Albumin_Globulin_Ratio  579 non-null    float64\n",
      " 10  selector                         583 non-null    int64  \n",
      " 11  Unnamed: 11                      0 non-null      float64\n",
      " 12  Unnamed: 12                      0 non-null      float64\n",
      " 13  Unnamed: 13                      0 non-null      float64\n",
      " 14  Unnamed: 14                      0 non-null      float64\n",
      "dtypes: float64(9), int64(5), object(1)\n",
      "memory usage: 68.4+ KB\n"
     ]
    }
   ],
   "source": [
    "data.info()"
   ]
  },
  {
   "cell_type": "code",
   "execution_count": 16,
   "id": "de09edc4-c94d-4b01-934e-7e8957d7de43",
   "metadata": {},
   "outputs": [
    {
     "data": {
      "text/html": [
       "<div>\n",
       "<style scoped>\n",
       "    .dataframe tbody tr th:only-of-type {\n",
       "        vertical-align: middle;\n",
       "    }\n",
       "\n",
       "    .dataframe tbody tr th {\n",
       "        vertical-align: top;\n",
       "    }\n",
       "\n",
       "    .dataframe thead th {\n",
       "        text-align: right;\n",
       "    }\n",
       "</style>\n",
       "<table border=\"1\" class=\"dataframe\">\n",
       "  <thead>\n",
       "    <tr style=\"text-align: right;\">\n",
       "      <th></th>\n",
       "      <th>age</th>\n",
       "      <th>Total_Bilirubin</th>\n",
       "      <th>Direct_Bilirubin</th>\n",
       "      <th>Alkphos_Alkaline_Phosphotase</th>\n",
       "      <th>Sgpt_Alamine_Aminotransferase</th>\n",
       "      <th>Sgot_Aspartate_Aminotransferase</th>\n",
       "      <th>Total_Protiens</th>\n",
       "      <th>ALB_Albumin</th>\n",
       "      <th>A/GRatio_Albumin_Globulin_Ratio</th>\n",
       "      <th>selector</th>\n",
       "      <th>Unnamed: 11</th>\n",
       "      <th>Unnamed: 12</th>\n",
       "      <th>Unnamed: 13</th>\n",
       "      <th>Unnamed: 14</th>\n",
       "    </tr>\n",
       "  </thead>\n",
       "  <tbody>\n",
       "    <tr>\n",
       "      <th>count</th>\n",
       "      <td>583.000000</td>\n",
       "      <td>583.000000</td>\n",
       "      <td>583.000000</td>\n",
       "      <td>583.000000</td>\n",
       "      <td>583.000000</td>\n",
       "      <td>583.000000</td>\n",
       "      <td>583.000000</td>\n",
       "      <td>583.000000</td>\n",
       "      <td>579.000000</td>\n",
       "      <td>583.000000</td>\n",
       "      <td>0.0</td>\n",
       "      <td>0.0</td>\n",
       "      <td>0.0</td>\n",
       "      <td>0.0</td>\n",
       "    </tr>\n",
       "    <tr>\n",
       "      <th>mean</th>\n",
       "      <td>44.746141</td>\n",
       "      <td>3.298799</td>\n",
       "      <td>1.486106</td>\n",
       "      <td>290.576329</td>\n",
       "      <td>80.713551</td>\n",
       "      <td>109.910806</td>\n",
       "      <td>6.483190</td>\n",
       "      <td>3.141852</td>\n",
       "      <td>0.947064</td>\n",
       "      <td>1.286449</td>\n",
       "      <td>NaN</td>\n",
       "      <td>NaN</td>\n",
       "      <td>NaN</td>\n",
       "      <td>NaN</td>\n",
       "    </tr>\n",
       "    <tr>\n",
       "      <th>std</th>\n",
       "      <td>16.189833</td>\n",
       "      <td>6.209522</td>\n",
       "      <td>2.808498</td>\n",
       "      <td>242.937989</td>\n",
       "      <td>182.620356</td>\n",
       "      <td>288.918529</td>\n",
       "      <td>1.085451</td>\n",
       "      <td>0.795519</td>\n",
       "      <td>0.319592</td>\n",
       "      <td>0.452490</td>\n",
       "      <td>NaN</td>\n",
       "      <td>NaN</td>\n",
       "      <td>NaN</td>\n",
       "      <td>NaN</td>\n",
       "    </tr>\n",
       "    <tr>\n",
       "      <th>min</th>\n",
       "      <td>4.000000</td>\n",
       "      <td>0.400000</td>\n",
       "      <td>0.100000</td>\n",
       "      <td>63.000000</td>\n",
       "      <td>10.000000</td>\n",
       "      <td>10.000000</td>\n",
       "      <td>2.700000</td>\n",
       "      <td>0.900000</td>\n",
       "      <td>0.300000</td>\n",
       "      <td>1.000000</td>\n",
       "      <td>NaN</td>\n",
       "      <td>NaN</td>\n",
       "      <td>NaN</td>\n",
       "      <td>NaN</td>\n",
       "    </tr>\n",
       "    <tr>\n",
       "      <th>25%</th>\n",
       "      <td>33.000000</td>\n",
       "      <td>0.800000</td>\n",
       "      <td>0.200000</td>\n",
       "      <td>175.500000</td>\n",
       "      <td>23.000000</td>\n",
       "      <td>25.000000</td>\n",
       "      <td>5.800000</td>\n",
       "      <td>2.600000</td>\n",
       "      <td>0.700000</td>\n",
       "      <td>1.000000</td>\n",
       "      <td>NaN</td>\n",
       "      <td>NaN</td>\n",
       "      <td>NaN</td>\n",
       "      <td>NaN</td>\n",
       "    </tr>\n",
       "    <tr>\n",
       "      <th>50%</th>\n",
       "      <td>45.000000</td>\n",
       "      <td>1.000000</td>\n",
       "      <td>0.300000</td>\n",
       "      <td>208.000000</td>\n",
       "      <td>35.000000</td>\n",
       "      <td>42.000000</td>\n",
       "      <td>6.600000</td>\n",
       "      <td>3.100000</td>\n",
       "      <td>0.930000</td>\n",
       "      <td>1.000000</td>\n",
       "      <td>NaN</td>\n",
       "      <td>NaN</td>\n",
       "      <td>NaN</td>\n",
       "      <td>NaN</td>\n",
       "    </tr>\n",
       "    <tr>\n",
       "      <th>75%</th>\n",
       "      <td>58.000000</td>\n",
       "      <td>2.600000</td>\n",
       "      <td>1.300000</td>\n",
       "      <td>298.000000</td>\n",
       "      <td>60.500000</td>\n",
       "      <td>87.000000</td>\n",
       "      <td>7.200000</td>\n",
       "      <td>3.800000</td>\n",
       "      <td>1.100000</td>\n",
       "      <td>2.000000</td>\n",
       "      <td>NaN</td>\n",
       "      <td>NaN</td>\n",
       "      <td>NaN</td>\n",
       "      <td>NaN</td>\n",
       "    </tr>\n",
       "    <tr>\n",
       "      <th>max</th>\n",
       "      <td>90.000000</td>\n",
       "      <td>75.000000</td>\n",
       "      <td>19.700000</td>\n",
       "      <td>2110.000000</td>\n",
       "      <td>2000.000000</td>\n",
       "      <td>4929.000000</td>\n",
       "      <td>9.600000</td>\n",
       "      <td>5.500000</td>\n",
       "      <td>2.800000</td>\n",
       "      <td>2.000000</td>\n",
       "      <td>NaN</td>\n",
       "      <td>NaN</td>\n",
       "      <td>NaN</td>\n",
       "      <td>NaN</td>\n",
       "    </tr>\n",
       "  </tbody>\n",
       "</table>\n",
       "</div>"
      ],
      "text/plain": [
       "              age  Total_Bilirubin  Direct_Bilirubin  \\\n",
       "count  583.000000       583.000000        583.000000   \n",
       "mean    44.746141         3.298799          1.486106   \n",
       "std     16.189833         6.209522          2.808498   \n",
       "min      4.000000         0.400000          0.100000   \n",
       "25%     33.000000         0.800000          0.200000   \n",
       "50%     45.000000         1.000000          0.300000   \n",
       "75%     58.000000         2.600000          1.300000   \n",
       "max     90.000000        75.000000         19.700000   \n",
       "\n",
       "       Alkphos_Alkaline_Phosphotase  Sgpt_Alamine_Aminotransferase  \\\n",
       "count                    583.000000                     583.000000   \n",
       "mean                     290.576329                      80.713551   \n",
       "std                      242.937989                     182.620356   \n",
       "min                       63.000000                      10.000000   \n",
       "25%                      175.500000                      23.000000   \n",
       "50%                      208.000000                      35.000000   \n",
       "75%                      298.000000                      60.500000   \n",
       "max                     2110.000000                    2000.000000   \n",
       "\n",
       "       Sgot_Aspartate_Aminotransferase  Total_Protiens  ALB_Albumin  \\\n",
       "count                       583.000000      583.000000   583.000000   \n",
       "mean                        109.910806        6.483190     3.141852   \n",
       "std                         288.918529        1.085451     0.795519   \n",
       "min                          10.000000        2.700000     0.900000   \n",
       "25%                          25.000000        5.800000     2.600000   \n",
       "50%                          42.000000        6.600000     3.100000   \n",
       "75%                          87.000000        7.200000     3.800000   \n",
       "max                        4929.000000        9.600000     5.500000   \n",
       "\n",
       "       A/GRatio_Albumin_Globulin_Ratio    selector  Unnamed: 11  Unnamed: 12  \\\n",
       "count                       579.000000  583.000000          0.0          0.0   \n",
       "mean                          0.947064    1.286449          NaN          NaN   \n",
       "std                           0.319592    0.452490          NaN          NaN   \n",
       "min                           0.300000    1.000000          NaN          NaN   \n",
       "25%                           0.700000    1.000000          NaN          NaN   \n",
       "50%                           0.930000    1.000000          NaN          NaN   \n",
       "75%                           1.100000    2.000000          NaN          NaN   \n",
       "max                           2.800000    2.000000          NaN          NaN   \n",
       "\n",
       "       Unnamed: 13  Unnamed: 14  \n",
       "count          0.0          0.0  \n",
       "mean           NaN          NaN  \n",
       "std            NaN          NaN  \n",
       "min            NaN          NaN  \n",
       "25%            NaN          NaN  \n",
       "50%            NaN          NaN  \n",
       "75%            NaN          NaN  \n",
       "max            NaN          NaN  "
      ]
     },
     "execution_count": 16,
     "metadata": {},
     "output_type": "execute_result"
    }
   ],
   "source": [
    "data.describe()"
   ]
  },
  {
   "cell_type": "code",
   "execution_count": 32,
   "id": "59cb3b19-ffd2-460b-bcf4-832b779d8514",
   "metadata": {},
   "outputs": [
    {
     "data": {
      "text/plain": [
       "age                                  0\n",
       "gender                               0\n",
       "Total_Bilirubin                      0\n",
       "Direct_Bilirubin                     0\n",
       "Alkphos_Alkaline_Phosphotase         0\n",
       "Sgpt_Alamine_Aminotransferase        0\n",
       "Sgot_Aspartate_Aminotransferase      0\n",
       "Total_Protiens                       0\n",
       "ALB_Albumin                          0\n",
       "A/GRatio_Albumin_Globulin_Ratio      0\n",
       "selector                             0\n",
       "Unnamed: 11                        583\n",
       "Unnamed: 12                        583\n",
       "Unnamed: 13                        583\n",
       "Unnamed: 14                        583\n",
       "dtype: int64"
      ]
     },
     "execution_count": 32,
     "metadata": {},
     "output_type": "execute_result"
    }
   ],
   "source": [
    "# Counting the missing values in dataset \n",
    "data.isna().sum()"
   ]
  },
  {
   "cell_type": "code",
   "execution_count": 21,
   "id": "45b7c2ad-8f13-42e6-97ad-8617d12652f9",
   "metadata": {},
   "outputs": [],
   "source": [
    "# convertin string values into integer by importing LabelEncoder\n",
    "from sklearn.preprocessing import LabelEncoder\n",
    "le = LabelEncoder()"
   ]
  },
  {
   "cell_type": "code",
   "execution_count": 23,
   "id": "65418cc5-2446-495c-af7f-faecde5175ac",
   "metadata": {},
   "outputs": [],
   "source": [
    "data['gender'] = le.fit_transform(data.gender)"
   ]
  },
  {
   "cell_type": "code",
   "execution_count": 24,
   "id": "b68f7a00-a04e-4b18-b72e-e75874a681c0",
   "metadata": {},
   "outputs": [
    {
     "data": {
      "text/html": [
       "<div>\n",
       "<style scoped>\n",
       "    .dataframe tbody tr th:only-of-type {\n",
       "        vertical-align: middle;\n",
       "    }\n",
       "\n",
       "    .dataframe tbody tr th {\n",
       "        vertical-align: top;\n",
       "    }\n",
       "\n",
       "    .dataframe thead th {\n",
       "        text-align: right;\n",
       "    }\n",
       "</style>\n",
       "<table border=\"1\" class=\"dataframe\">\n",
       "  <thead>\n",
       "    <tr style=\"text-align: right;\">\n",
       "      <th></th>\n",
       "      <th>age</th>\n",
       "      <th>gender</th>\n",
       "      <th>Total_Bilirubin</th>\n",
       "      <th>Direct_Bilirubin</th>\n",
       "      <th>Alkphos_Alkaline_Phosphotase</th>\n",
       "      <th>Sgpt_Alamine_Aminotransferase</th>\n",
       "      <th>Sgot_Aspartate_Aminotransferase</th>\n",
       "      <th>Total_Protiens</th>\n",
       "      <th>ALB_Albumin</th>\n",
       "      <th>A/GRatio_Albumin_Globulin_Ratio</th>\n",
       "      <th>selector</th>\n",
       "      <th>Unnamed: 11</th>\n",
       "      <th>Unnamed: 12</th>\n",
       "      <th>Unnamed: 13</th>\n",
       "      <th>Unnamed: 14</th>\n",
       "    </tr>\n",
       "  </thead>\n",
       "  <tbody>\n",
       "    <tr>\n",
       "      <th>0</th>\n",
       "      <td>65</td>\n",
       "      <td>0</td>\n",
       "      <td>0.7</td>\n",
       "      <td>0.1</td>\n",
       "      <td>187</td>\n",
       "      <td>16</td>\n",
       "      <td>18</td>\n",
       "      <td>6.8</td>\n",
       "      <td>3.3</td>\n",
       "      <td>0.90</td>\n",
       "      <td>1</td>\n",
       "      <td>NaN</td>\n",
       "      <td>NaN</td>\n",
       "      <td>NaN</td>\n",
       "      <td>NaN</td>\n",
       "    </tr>\n",
       "    <tr>\n",
       "      <th>1</th>\n",
       "      <td>62</td>\n",
       "      <td>1</td>\n",
       "      <td>10.9</td>\n",
       "      <td>5.5</td>\n",
       "      <td>699</td>\n",
       "      <td>64</td>\n",
       "      <td>100</td>\n",
       "      <td>7.5</td>\n",
       "      <td>3.2</td>\n",
       "      <td>0.74</td>\n",
       "      <td>1</td>\n",
       "      <td>NaN</td>\n",
       "      <td>NaN</td>\n",
       "      <td>NaN</td>\n",
       "      <td>NaN</td>\n",
       "    </tr>\n",
       "    <tr>\n",
       "      <th>2</th>\n",
       "      <td>62</td>\n",
       "      <td>1</td>\n",
       "      <td>7.3</td>\n",
       "      <td>4.1</td>\n",
       "      <td>490</td>\n",
       "      <td>60</td>\n",
       "      <td>68</td>\n",
       "      <td>7.0</td>\n",
       "      <td>3.3</td>\n",
       "      <td>0.89</td>\n",
       "      <td>1</td>\n",
       "      <td>NaN</td>\n",
       "      <td>NaN</td>\n",
       "      <td>NaN</td>\n",
       "      <td>NaN</td>\n",
       "    </tr>\n",
       "    <tr>\n",
       "      <th>3</th>\n",
       "      <td>58</td>\n",
       "      <td>1</td>\n",
       "      <td>1.0</td>\n",
       "      <td>0.4</td>\n",
       "      <td>182</td>\n",
       "      <td>14</td>\n",
       "      <td>20</td>\n",
       "      <td>6.8</td>\n",
       "      <td>3.4</td>\n",
       "      <td>1.00</td>\n",
       "      <td>1</td>\n",
       "      <td>NaN</td>\n",
       "      <td>NaN</td>\n",
       "      <td>NaN</td>\n",
       "      <td>NaN</td>\n",
       "    </tr>\n",
       "    <tr>\n",
       "      <th>4</th>\n",
       "      <td>72</td>\n",
       "      <td>1</td>\n",
       "      <td>3.9</td>\n",
       "      <td>2.0</td>\n",
       "      <td>195</td>\n",
       "      <td>27</td>\n",
       "      <td>59</td>\n",
       "      <td>7.3</td>\n",
       "      <td>2.4</td>\n",
       "      <td>0.40</td>\n",
       "      <td>1</td>\n",
       "      <td>NaN</td>\n",
       "      <td>NaN</td>\n",
       "      <td>NaN</td>\n",
       "      <td>NaN</td>\n",
       "    </tr>\n",
       "  </tbody>\n",
       "</table>\n",
       "</div>"
      ],
      "text/plain": [
       "   age  gender  Total_Bilirubin  Direct_Bilirubin  \\\n",
       "0   65       0              0.7               0.1   \n",
       "1   62       1             10.9               5.5   \n",
       "2   62       1              7.3               4.1   \n",
       "3   58       1              1.0               0.4   \n",
       "4   72       1              3.9               2.0   \n",
       "\n",
       "   Alkphos_Alkaline_Phosphotase  Sgpt_Alamine_Aminotransferase  \\\n",
       "0                           187                             16   \n",
       "1                           699                             64   \n",
       "2                           490                             60   \n",
       "3                           182                             14   \n",
       "4                           195                             27   \n",
       "\n",
       "   Sgot_Aspartate_Aminotransferase  Total_Protiens  ALB_Albumin  \\\n",
       "0                               18             6.8          3.3   \n",
       "1                              100             7.5          3.2   \n",
       "2                               68             7.0          3.3   \n",
       "3                               20             6.8          3.4   \n",
       "4                               59             7.3          2.4   \n",
       "\n",
       "   A/GRatio_Albumin_Globulin_Ratio  selector  Unnamed: 11  Unnamed: 12  \\\n",
       "0                             0.90         1          NaN          NaN   \n",
       "1                             0.74         1          NaN          NaN   \n",
       "2                             0.89         1          NaN          NaN   \n",
       "3                             1.00         1          NaN          NaN   \n",
       "4                             0.40         1          NaN          NaN   \n",
       "\n",
       "   Unnamed: 13  Unnamed: 14  \n",
       "0          NaN          NaN  \n",
       "1          NaN          NaN  \n",
       "2          NaN          NaN  \n",
       "3          NaN          NaN  \n",
       "4          NaN          NaN  "
      ]
     },
     "execution_count": 24,
     "metadata": {},
     "output_type": "execute_result"
    }
   ],
   "source": [
    "data.head(5)"
   ]
  },
  {
   "cell_type": "code",
   "execution_count": 25,
   "id": "eeacc554-bcee-4419-b10c-bff5799a05f0",
   "metadata": {},
   "outputs": [
    {
     "name": "stderr",
     "output_type": "stream",
     "text": [
      "C:\\Users\\shani jaiswar\\AppData\\Local\\Temp\\ipykernel_1328\\3552275896.py:1: FutureWarning: A value is trying to be set on a copy of a DataFrame or Series through chained assignment using an inplace method.\n",
      "The behavior will change in pandas 3.0. This inplace method will never work because the intermediate object on which we are setting values always behaves as a copy.\n",
      "\n",
      "For example, when doing 'df[col].method(value, inplace=True)', try using 'df.method({col: value}, inplace=True)' or df[col] = df[col].method(value) instead, to perform the operation inplace on the original object.\n",
      "\n",
      "\n",
      "  data['A/GRatio_Albumin_Globulin_Ratio'].fillna(data['A/GRatio_Albumin_Globulin_Ratio'].median(), inplace=True)\n"
     ]
    }
   ],
   "source": [
    "data['A/GRatio_Albumin_Globulin_Ratio'].fillna(data['A/GRatio_Albumin_Globulin_Ratio'].median(), inplace=True) # It is use to fill the values in that columns"
   ]
  },
  {
   "cell_type": "code",
   "execution_count": 26,
   "id": "ccab7da9-e217-4ef4-9d1c-3d8e9bc4fc57",
   "metadata": {},
   "outputs": [
    {
     "name": "stdout",
     "output_type": "stream",
     "text": [
      "<class 'pandas.core.frame.DataFrame'>\n",
      "RangeIndex: 583 entries, 0 to 582\n",
      "Data columns (total 15 columns):\n",
      " #   Column                           Non-Null Count  Dtype  \n",
      "---  ------                           --------------  -----  \n",
      " 0   age                              583 non-null    int64  \n",
      " 1   gender                           583 non-null    int32  \n",
      " 2   Total_Bilirubin                  583 non-null    float64\n",
      " 3   Direct_Bilirubin                 583 non-null    float64\n",
      " 4   Alkphos_Alkaline_Phosphotase     583 non-null    int64  \n",
      " 5   Sgpt_Alamine_Aminotransferase    583 non-null    int64  \n",
      " 6   Sgot_Aspartate_Aminotransferase  583 non-null    int64  \n",
      " 7   Total_Protiens                   583 non-null    float64\n",
      " 8   ALB_Albumin                      583 non-null    float64\n",
      " 9   A/GRatio_Albumin_Globulin_Ratio  583 non-null    float64\n",
      " 10  selector                         583 non-null    int64  \n",
      " 11  Unnamed: 11                      0 non-null      float64\n",
      " 12  Unnamed: 12                      0 non-null      float64\n",
      " 13  Unnamed: 13                      0 non-null      float64\n",
      " 14  Unnamed: 14                      0 non-null      float64\n",
      "dtypes: float64(9), int32(1), int64(5)\n",
      "memory usage: 66.2 KB\n"
     ]
    }
   ],
   "source": [
    "data.info()"
   ]
  },
  {
   "cell_type": "code",
   "execution_count": 29,
   "id": "e880ef2d-ae5d-48c0-9239-55acb43aa090",
   "metadata": {},
   "outputs": [],
   "source": [
    "# Removing null values by columns\n",
    "clean_data = data.dropna(axis=1)"
   ]
  },
  {
   "cell_type": "code",
   "execution_count": 91,
   "id": "4ad4283c-0fd2-4eb2-9a13-d0af1331b942",
   "metadata": {},
   "outputs": [
    {
     "data": {
      "text/html": [
       "<div>\n",
       "<style scoped>\n",
       "    .dataframe tbody tr th:only-of-type {\n",
       "        vertical-align: middle;\n",
       "    }\n",
       "\n",
       "    .dataframe tbody tr th {\n",
       "        vertical-align: top;\n",
       "    }\n",
       "\n",
       "    .dataframe thead th {\n",
       "        text-align: right;\n",
       "    }\n",
       "</style>\n",
       "<table border=\"1\" class=\"dataframe\">\n",
       "  <thead>\n",
       "    <tr style=\"text-align: right;\">\n",
       "      <th></th>\n",
       "      <th>age</th>\n",
       "      <th>gender</th>\n",
       "      <th>Total_Bilirubin</th>\n",
       "      <th>Direct_Bilirubin</th>\n",
       "      <th>Alkphos_Alkaline_Phosphotase</th>\n",
       "      <th>Sgpt_Alamine_Aminotransferase</th>\n",
       "      <th>Sgot_Aspartate_Aminotransferase</th>\n",
       "      <th>Total_Protiens</th>\n",
       "      <th>ALB_Albumin</th>\n",
       "      <th>A/GRatio_Albumin_Globulin_Ratio</th>\n",
       "      <th>selector</th>\n",
       "    </tr>\n",
       "  </thead>\n",
       "  <tbody>\n",
       "    <tr>\n",
       "      <th>0</th>\n",
       "      <td>65</td>\n",
       "      <td>0</td>\n",
       "      <td>0.7</td>\n",
       "      <td>0.1</td>\n",
       "      <td>187</td>\n",
       "      <td>16</td>\n",
       "      <td>18</td>\n",
       "      <td>6.8</td>\n",
       "      <td>3.3</td>\n",
       "      <td>0.90</td>\n",
       "      <td>1</td>\n",
       "    </tr>\n",
       "    <tr>\n",
       "      <th>1</th>\n",
       "      <td>62</td>\n",
       "      <td>1</td>\n",
       "      <td>10.9</td>\n",
       "      <td>5.5</td>\n",
       "      <td>699</td>\n",
       "      <td>64</td>\n",
       "      <td>100</td>\n",
       "      <td>7.5</td>\n",
       "      <td>3.2</td>\n",
       "      <td>0.74</td>\n",
       "      <td>1</td>\n",
       "    </tr>\n",
       "    <tr>\n",
       "      <th>2</th>\n",
       "      <td>62</td>\n",
       "      <td>1</td>\n",
       "      <td>7.3</td>\n",
       "      <td>4.1</td>\n",
       "      <td>490</td>\n",
       "      <td>60</td>\n",
       "      <td>68</td>\n",
       "      <td>7.0</td>\n",
       "      <td>3.3</td>\n",
       "      <td>0.89</td>\n",
       "      <td>1</td>\n",
       "    </tr>\n",
       "    <tr>\n",
       "      <th>3</th>\n",
       "      <td>58</td>\n",
       "      <td>1</td>\n",
       "      <td>1.0</td>\n",
       "      <td>0.4</td>\n",
       "      <td>182</td>\n",
       "      <td>14</td>\n",
       "      <td>20</td>\n",
       "      <td>6.8</td>\n",
       "      <td>3.4</td>\n",
       "      <td>1.00</td>\n",
       "      <td>1</td>\n",
       "    </tr>\n",
       "    <tr>\n",
       "      <th>4</th>\n",
       "      <td>72</td>\n",
       "      <td>1</td>\n",
       "      <td>3.9</td>\n",
       "      <td>2.0</td>\n",
       "      <td>195</td>\n",
       "      <td>27</td>\n",
       "      <td>59</td>\n",
       "      <td>7.3</td>\n",
       "      <td>2.4</td>\n",
       "      <td>0.40</td>\n",
       "      <td>1</td>\n",
       "    </tr>\n",
       "  </tbody>\n",
       "</table>\n",
       "</div>"
      ],
      "text/plain": [
       "   age  gender  Total_Bilirubin  Direct_Bilirubin  \\\n",
       "0   65       0              0.7               0.1   \n",
       "1   62       1             10.9               5.5   \n",
       "2   62       1              7.3               4.1   \n",
       "3   58       1              1.0               0.4   \n",
       "4   72       1              3.9               2.0   \n",
       "\n",
       "   Alkphos_Alkaline_Phosphotase  Sgpt_Alamine_Aminotransferase  \\\n",
       "0                           187                             16   \n",
       "1                           699                             64   \n",
       "2                           490                             60   \n",
       "3                           182                             14   \n",
       "4                           195                             27   \n",
       "\n",
       "   Sgot_Aspartate_Aminotransferase  Total_Protiens  ALB_Albumin  \\\n",
       "0                               18             6.8          3.3   \n",
       "1                              100             7.5          3.2   \n",
       "2                               68             7.0          3.3   \n",
       "3                               20             6.8          3.4   \n",
       "4                               59             7.3          2.4   \n",
       "\n",
       "   A/GRatio_Albumin_Globulin_Ratio  selector  \n",
       "0                             0.90         1  \n",
       "1                             0.74         1  \n",
       "2                             0.89         1  \n",
       "3                             1.00         1  \n",
       "4                             0.40         1  "
      ]
     },
     "execution_count": 91,
     "metadata": {},
     "output_type": "execute_result"
    }
   ],
   "source": [
    "clean_data.head(5)"
   ]
  },
  {
   "cell_type": "code",
   "execution_count": 30,
   "id": "14c13e9d-df9d-46b4-9d41-244ad2bcc818",
   "metadata": {},
   "outputs": [
    {
     "name": "stdout",
     "output_type": "stream",
     "text": [
      "<class 'pandas.core.frame.DataFrame'>\n",
      "RangeIndex: 583 entries, 0 to 582\n",
      "Data columns (total 11 columns):\n",
      " #   Column                           Non-Null Count  Dtype  \n",
      "---  ------                           --------------  -----  \n",
      " 0   age                              583 non-null    int64  \n",
      " 1   gender                           583 non-null    int32  \n",
      " 2   Total_Bilirubin                  583 non-null    float64\n",
      " 3   Direct_Bilirubin                 583 non-null    float64\n",
      " 4   Alkphos_Alkaline_Phosphotase     583 non-null    int64  \n",
      " 5   Sgpt_Alamine_Aminotransferase    583 non-null    int64  \n",
      " 6   Sgot_Aspartate_Aminotransferase  583 non-null    int64  \n",
      " 7   Total_Protiens                   583 non-null    float64\n",
      " 8   ALB_Albumin                      583 non-null    float64\n",
      " 9   A/GRatio_Albumin_Globulin_Ratio  583 non-null    float64\n",
      " 10  selector                         583 non-null    int64  \n",
      "dtypes: float64(5), int32(1), int64(5)\n",
      "memory usage: 48.0 KB\n"
     ]
    }
   ],
   "source": [
    "clean_data.info()"
   ]
  },
  {
   "cell_type": "code",
   "execution_count": 35,
   "id": "88cedce9-486d-4ba9-a989-941afd63f7ab",
   "metadata": {},
   "outputs": [
    {
     "data": {
      "text/plain": [
       "(583, 11)"
      ]
     },
     "execution_count": 35,
     "metadata": {},
     "output_type": "execute_result"
    }
   ],
   "source": [
    "clean_data.shape"
   ]
  },
  {
   "cell_type": "markdown",
   "id": "c593756b-60ad-45f8-8b31-e0e610668d55",
   "metadata": {},
   "source": [
    "# Now visualization part"
   ]
  },
  {
   "cell_type": "code",
   "execution_count": 36,
   "id": "d9b85985-8c04-46d2-8083-e86b3b75f206",
   "metadata": {},
   "outputs": [
    {
     "data": {
      "text/plain": [
       "gender\n",
       "1    441\n",
       "0    142\n",
       "Name: count, dtype: int64"
      ]
     },
     "execution_count": 36,
     "metadata": {},
     "output_type": "execute_result"
    }
   ],
   "source": [
    "clean_data.gender.value_counts()"
   ]
  },
  {
   "cell_type": "code",
   "execution_count": 89,
   "id": "328c2ea5-082d-4c58-859f-0fecd3805cf5",
   "metadata": {},
   "outputs": [
    {
     "data": {
      "image/png": "[encoded data removed]",
      "text/plain": [
       "<Figure size 640x480 with 1 Axes>"
      ]
     },
     "metadata": {},
     "output_type": "display_data"
    }
   ],
   "source": [
    "sn.countplot(x='gender',data=clean_data, color='green')\n",
    "plt.show()"
   ]
  },
  {
   "cell_type": "code",
   "execution_count": 38,
   "id": "bae81dec-7edc-464a-9926-de1ff2040bef",
   "metadata": {},
   "outputs": [
    {
     "data": {
      "text/plain": [
       "age\n",
       "60    34\n",
       "45    25\n",
       "50    23\n",
       "42    21\n",
       "38    21\n",
       "      ..\n",
       "78     1\n",
       "11     1\n",
       "67     1\n",
       "10     1\n",
       "90     1\n",
       "Name: count, Length: 72, dtype: int64"
      ]
     },
     "execution_count": 38,
     "metadata": {},
     "output_type": "execute_result"
    }
   ],
   "source": [
    "clean_data.age.value_counts()"
   ]
  },
  {
   "cell_type": "code",
   "execution_count": 88,
   "id": "d2163f3a-a26c-4d8c-9878-81d676c090a1",
   "metadata": {},
   "outputs": [
    {
     "data": {
      "image/png": "[encoded data removed]",
      "text/plain": [
       "<Figure size 640x480 with 1 Axes>"
      ]
     },
     "metadata": {},
     "output_type": "display_data"
    }
   ],
   "source": [
    "sn.countplot(x='age',data=clean_data)\n",
    "plt.show()\n"
   ]
  },
  {
   "cell_type": "code",
   "execution_count": 41,
   "id": "02edc017-634e-4e87-a0f4-a824065b7042",
   "metadata": {},
   "outputs": [
    {
     "data": {
      "text/plain": [
       "selector\n",
       "1    416\n",
       "2    167\n",
       "Name: count, dtype: int64"
      ]
     },
     "execution_count": 41,
     "metadata": {},
     "output_type": "execute_result"
    }
   ],
   "source": [
    "clean_data.selector.value_counts()"
   ]
  },
  {
   "cell_type": "code",
   "execution_count": 43,
   "id": "32df01fd-1b0f-4dd1-ae2a-3119844daec2",
   "metadata": {},
   "outputs": [
    {
     "data": {
      "image/png": "[encoded data removed]",
      "text/plain": [
       "<Figure size 640x480 with 1 Axes>"
      ]
     },
     "metadata": {},
     "output_type": "display_data"
    }
   ],
   "source": [
    "sn.countplot(x='selector',data=clean_data, color='red')\n",
    "plt.show()"
   ]
  },
  {
   "cell_type": "code",
   "execution_count": 53,
   "id": "029da9d9-9edf-4ae2-b589-030f92ed289b",
   "metadata": {},
   "outputs": [
    {
     "data": {
      "text/plain": [
       "Index(['age', 'gender', 'Total_Bilirubin', 'Direct_Bilirubin',\n",
       "       'Alkphos_Alkaline_Phosphotase', 'Sgpt_Alamine_Aminotransferase',\n",
       "       'Sgot_Aspartate_Aminotransferase', 'Total_Protiens', 'ALB_Albumin',\n",
       "       'A/GRatio_Albumin_Globulin_Ratio', 'selector'],\n",
       "      dtype='object')"
      ]
     },
     "execution_count": 53,
     "metadata": {},
     "output_type": "execute_result"
    }
   ],
   "source": [
    "clean_data.columns"
   ]
  },
  {
   "cell_type": "code",
   "execution_count": 69,
   "id": "f004f582-00fa-4983-83e5-11e06b8dc1a9",
   "metadata": {},
   "outputs": [
    {
     "data": {
      "image/png": "[encoded data removed]",
      "text/plain": [
       "<Figure size 640x480 with 1 Axes>"
      ]
     },
     "metadata": {},
     "output_type": "display_data"
    }
   ],
   "source": [
    "pd.crosstab(clean_data.gender, clean_data.selector).plot(kind='bar',color=['red','green'])\n",
    "# plt.legend(handles=[])\n",
    "plt.show()"
   ]
  },
  {
   "cell_type": "code",
   "execution_count": null,
   "id": "6ed57ff6-a76c-4ef2-ac5c-9cd0cc766477",
   "metadata": {},
   "outputs": [],
   "source": [
    "\n"
   ]
  },
  {
   "cell_type": "code",
   "execution_count": null,
   "id": "2199dd9e-bc90-4f3d-ab26-210701522045",
   "metadata": {},
   "outputs": [],
   "source": [
    "\n",
    "\n"
   ]
  }
 ],
 "metadata": {
  "kernelspec": {
   "display_name": "Python 3 (ipykernel)",
   "language": "python",
   "name": "python3"
  },
  "language_info": {
   "codemirror_mode": {
    "name": "ipython",
    "version": 3
   },
   "file_extension": ".py",
   "mimetype": "text/x-python",
   "name": "python",
   "nbconvert_exporter": "python",
   "pygments_lexer": "ipython3",
   "version": "3.12.7"
  }
 },
 "nbformat": 4,
 "nbformat_minor": 5
}
